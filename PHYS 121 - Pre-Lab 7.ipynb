{
 "cells": [
  {
   "cell_type": "markdown",
   "id": "bf2f5aac",
   "metadata": {
    "deletable": false,
    "editable": false,
    "slideshow": {
     "slide_type": ""
    },
    "tags": []
   },
   "source": [
    "# <div style=\"background-color:rgba(204, 229, 255, 0.5); text-align:center; vertical-align: middle; padding:40px 0; margin-top:30px\"><span style=\"color:rgba(0, 76, 153, 1);\">**PHYS 121 Pre-Lab #7**<span style=\"color:red\"> $\\to$ (4 possible marks)</span> </span></div> \n",
    "\n",
    "<font size =\"4\"><span style=\"color:purple\">We recommend that you complete this notebook using either the [Google Chrome](https://www.google.com/intl/en_ca/chrome/) or [Mozilla Firefox](https://www.mozilla.org/en-CA/firefox/new/) browser.  Chrome and Firefox are both available for Windows, Mac, and Linux operating systems.  The PHYS 121 Jupyter notebooks should work in other browsers, but we have specifically verfied that they work well in both Chrome and Firefox.</span></font>\n",
    "\n",
    "# Earth's Magnetic Field"
   ]
  },
  {
   "cell_type": "markdown",
   "id": "ee71fac4",
   "metadata": {
    "deletable": false,
    "editable": false,
    "slideshow": {
     "slide_type": ""
    },
    "tags": []
   },
   "source": [
    "***\n",
    "## Learning Objectives:\n",
    "* <b><span style=\"color:rgba(0, 153, 76, 1);\"> See how simple devices (capacitors and solenoids) can be used to create uniform electric and magnetic fields.</span></b>\n",
    "* <b><span style=\"color:rgba(0, 153, 76, 1);\"> Be aware of the limitations or nonideal behaviours of these devices.</span></b>\n",
    "* <b><span style=\"color:rgba(0, 153, 76, 1);\"> Start to develop an experimental method to measure the properties of Earth's magnetic field at our position on Earth's surface. </span></b>"
   ]
  },
  {
   "cell_type": "markdown",
   "id": "cffd17f0",
   "metadata": {
    "deletable": false,
    "editable": false,
    "slideshow": {
     "slide_type": ""
    },
    "tags": []
   },
   "source": [
    "***\n",
    "## Autograding:\n",
    "The PHYS 121 Pre-lab assignments and Labs will make use of some autograding.  To make the autograding work, the two cells below need to be executed.  The first one installs the required packages and the second imports required packages/modules.  If 'PHYS121.Installer()' reports that some functions have been installed, the user should execute the PHYS121.Installer() cell a second time.  The second time the installer function is run, it should report that **\"All packages already installed. Please proceed\"**.\n",
    "\n",
    "If necessary, the kernel can be restarted by selecting **Kernel** $\\to$ **Restart Kernel** from the menu options at to the top of the page.  Here is a <a href = \"https://raw.githubusercontent.com/UBC-Okanagan-Physics-Labs/PHYS-121-images/main/general/gifs/restartKernel.gif\">GIF</a> showing how to restart the kernel.\n",
    "\n",
    "The 'PHYS121.Installer()' command requires the file 'PHYS121.py', which you should see included in the list of files along the left-hand side of the screen."
   ]
  },
  {
   "cell_type": "code",
   "execution_count": null,
   "id": "210046ce",
   "metadata": {
    "deletable": false,
    "editable": false,
    "slideshow": {
     "slide_type": ""
    },
    "tags": []
   },
   "outputs": [],
   "source": [
    "# Import PHYS121.py and then run the installer function.\n",
    "import PHYS121\n",
    "PHYS121.Installer()"
   ]
  },
  {
   "cell_type": "code",
   "execution_count": null,
   "id": "98c1d81a",
   "metadata": {
    "deletable": false,
    "editable": false,
    "slideshow": {
     "slide_type": ""
    },
    "tags": []
   },
   "outputs": [],
   "source": [
    "# Initialize Otter\n",
    "import otter\n",
    "grader = otter.Notebook(\"PHYS 121 - Pre-Lab 7.ipynb\")"
   ]
  },
  {
   "cell_type": "markdown",
   "id": "bee69882-2a07-4f97-97f8-77139ef77b3f",
   "metadata": {
    "deletable": false,
    "editable": false,
    "slideshow": {
     "slide_type": ""
    },
    "tags": []
   },
   "source": [
    "***\n",
    "## Import Modules:\n",
    "Execute the cell below to import a number of useful pre-built Python modules that will be used in the PHYS 121 pre-labs and labs."
   ]
  },
  {
   "cell_type": "code",
   "execution_count": null,
   "id": "885b52b2-e845-4153-941a-34a29a4032c7",
   "metadata": {
    "deletable": false,
    "editable": false,
    "slideshow": {
     "slide_type": ""
    },
    "tags": []
   },
   "outputs": [],
   "source": [
    "import numpy as np\n",
    "import matplotlib.pyplot as plt\n",
    "import pandas as pd\n",
    "from matplotlib.pyplot import cm # used to generate a sequence of colours for plotting\n",
    "from scipy.optimize import curve_fit\n",
    "from IPython.display import HTML as html_print\n",
    "from IPython.display import display, Markdown, Latex\n",
    "from IPython.display import YouTubeVideo\n",
    "import math\n",
    "import sympy"
   ]
  },
  {
   "cell_type": "markdown",
   "id": "03463fa2",
   "metadata": {
    "deletable": false,
    "editable": false,
    "slideshow": {
     "slide_type": ""
    },
    "tags": []
   },
   "source": [
    "# <div style=\"background-color:rgba(255, 204, 255, 0.5); text-align:center; vertical-align: middle; padding:40px 0; margin-top:30px\"><span style=\"color:rgba(102, 0, 204, 1);\">Part 1 - Introduction</span></div>\n",
    "\n",
    "## Earth's magnetic field...\n",
    "\n",
    "You are likely aware of the idea that the Earth has north and south magnetic poles. However, these names are a bit misleading. For one thing, since Earth's geographic north attracts the north pole of a bar magnet, Earth's *geographic* north pole is  a *magnetic* south pole.  This situation is depicted in **Fig. 1**.\n",
    "\n",
    "<p>\n",
    "<center>\n",
    "<img src=\"https://raw.githubusercontent.com/UBC-Okanagan-Physics-Labs/PHYS-121-images/main/Pre-Lab-7/images/Earth-field.jpg\" alt=\"Earth's magnetic field\" style=\"width: 45%; height: auto;\" /><br>\n",
    "    <b>Fig. 1: The <i>magnetic</i> south pole of the Earth is located at its <i>geographic</i> north pole.    Figure adapted from <a href =\"https://commons.wikimedia.org/wiki/File:Openstax_college-physics_22.4_earth-magnet.jpg\">Wikimedia Commons</a>.</b>\n",
    "</center>\n",
    "</p>\n",
    "\n",
    "Furthermore, these poles don't exactly coincide with the geographic poles, and in fact the north pole is wandering NNW at about $55\\rm\\ km$ per year. To confuse matters even more, by taking note of how flows of ferromagnetic magma have solidified in the past, we know that the Earth's magnetic field undergos occasional **geomagnetic reversals**, in which the magnetic poles effectively swap places.  \n",
    "\n",
    "Aside from all these complications, the magnetic field of the Earth is stable enough for us to use for navigation. In a compass, a magnetized needle on a low-friction bearing will swivel to align itself with the local magnetic field. This tells us what *direction* the horizontal component of the local field is pointing in, but what about its *magnitude*? What is the strength of Earth's magnetic field at your current location?\n",
    "\n",
    "In this pre-lab, you will use simple vector analysis to see how it's possible to measure the local magnetic field using only a compass, a coil of wire, and a DC power source. This will equip you with the analytic tools to carry out the actual experiment in this week's lab.  \n",
    "\n",
    "## Creating uniform magnetic fields...\n",
    "\n",
    "The technique that we'll use to probe the magnetic field of the Earth requires us to generate a a uniform magnetic field and control its strength.  Before considering how we can produce a uniform magnetic field, let's first recall that capacitors can be used to produce uniform electric fields.  The left-hand side of **Fig. 2** shows the electric field produced by a charged parallel-plate capacitor.\n",
    "\n",
    "<p>\n",
    "<center>\n",
    "<img src=\"https://raw.githubusercontent.com/UBC-Okanagan-Physics-Labs/PHYS-121-images/main/Pre-Lab-7/images/uniformE.png\" alt=\"Uniform electric field\" style=\"width: 100%; height: auto;\" /><br>\n",
    "    <b>Fig. 2: The electric field between the plates of a charged capacitor is approximately uniform.  Figure adapted from <a href =\"https://commons.wikimedia.org/wiki/File:VFPt_capacitor-round-plate.svg\">Wikimedia Commons</a>.</b>\n",
    "</center>\n",
    "</p>\n",
    "\n",
    "Notice that:\n",
    " - The electric field is strong between the plates and relatively weak everywhere else\n",
    " - The electric field between the plates is approximately uniform, especially in the region near the centre of the capacitor\n",
    " \n",
    "It is common to approximate the electric field of a capacitor as shown on the right-hand side of **Fig. 2**.  In this approximation, the electric field between the plates is uniform with a magnitude given by $E=\\sigma/\\varepsilon_0$, where $\\sigma$ is the charge per unit area on the plates of the capacitor.  The electric field everywhere else is taken to be zero.  This approximation is very good when the plates are large compared the gap between the two plates. \n",
    " \n",
    "Whereas charge is a source of electric fields, we will see in class that *current* (or charge in motion) is a source of magnetic fields.  We can generate a uniform magnetic field using a coil of wire carrying a constant current $I$.  The left-hand side of **Fig. 3** shows the magnetic field created by a cylindrical coil supplied with a constant current.  These coils are often called **solenoids** or **inductors**.  \n",
    "\n",
    "<p>\n",
    "<center>\n",
    "<img src=\"https://raw.githubusercontent.com/UBC-Okanagan-Physics-Labs/PHYS-121-images/main/Pre-Lab-7/images/uniformB.png\" alt=\"Uniform magnetic field\" style=\"width: 100%; height: auto;\" /><br>\n",
    "    <b>Fig. 3: The magnetic field inside a solenoid carrying current $I$ is approximately uniform.  Figure adapted from <a href =\"https://commons.wikimedia.org/wiki/File:VFPt_magnet_B_currents.svg\">Wikimedia Commons</a>.</b>\n",
    "</center>\n",
    "</p>\n",
    " \n",
    "Notice that:\n",
    " - The magnetic field is strong within the bore of the solenoid and relatively weak everywhere else\n",
    " - The magnetic field within the bore of the solenoid is approximately uniform, especially in the region near its centre\n",
    " \n",
    "Like we did for the electric field of the capacitor, it is common to approximate the magnetic field of a solenoid as shown on the right-hand side of **Fig. 3**.  In this approximation, the magnetic field in the bore of the solenoid is uniform and its zero outside the bore.  After studying Ampère's law, we'll be able to show that the magnitude of the uniform magnetic field in the bore is given by:\n",
    "\n",
    "\\begin{align}\n",
    "B_\\mathrm{S} &= \\frac{\\mu_0 N I}{\\ell}\\\\\n",
    "&= \\mu_0 n I\\tag{1}\n",
    "\\end{align}\n",
    "\n",
    "In Eq. (1):\n",
    "\n",
    " - $\\mu_0 = 4\\pi\\times 10^{-7}\\rm\\ N/A^2$ is a constant called the *permeability of free space*\n",
    " - $N$ is the number of windings or loops of wire used to form the solenoid and $\\ell$ is the length of the solenoid\n",
    " - $n = N/\\ell$ is the density of windings or the number of loops per unit length\n",
    " \n",
    "The approximation shown on the right-hand side of **Fig. 3** is very good when then solenoid's length is very long compared to its radius.  When this condition is satisfied, Eq. (1) is valid for points that are not too close to the ends of the solenoid.\n",
    "\n",
    "It is important to emphasize that solenoids are used all of time in practical applications that require uniform magnetic fields.  In these applications, the coils of current-carrying wires are often called *electromagnets*.  Magnetic Resonance Imaging (MRI) scanners use large electromagnets wound with superconducting wires that are cooled to $4\\rm\\ K$ ($-269^\\circ\\rm C$) using liquid helium.  The bore of the electromagnet is large enough for a person to lie inside of.  **Figure 4** shows a photograph of one of the first MRI scanners.  This electromagnet of this scanner wasn't cooled to low temperature or wound using superconducting wires.\n",
    "\n",
    "<p>\n",
    "<center>\n",
    "<img src=\"https://raw.githubusercontent.com/UBC-Okanagan-Physics-Labs/PHYS-121-images/main/Pre-Lab-7/images/MRI.png\" alt=\"MRI\" style=\"width: 40%; height: auto;\" /><br>\n",
    "    <b>Fig. 4: An early MRI scanner showing the exposed electromagnet/solenoid used to produce a large and approximately uniform magnetic field.  Figure adapted from <a href =\"https://commons.wikimedia.org/wiki/File:MRI_Scanner_Mark_One.jpg\">Wikimedia Commons</a>.</b>\n",
    "</center>\n",
    "</p>\n",
    "\n",
    "As a second example, small solenoids are used in the design of stepper motors.  Manipulating the currents in the solenoids allows the user fine control over the motor's speed and position.  See **Fig. 5**.\n",
    "\n",
    "<p>\n",
    "<center>\n",
    "<img src=\"https://raw.githubusercontent.com/UBC-Okanagan-Physics-Labs/PHYS-121-images/main/Pre-Lab-7/images/stepper.png\" alt=\"Stepper motor\" style=\"width: 40%; height: auto;\" /><br>\n",
    "    <b>Fig. 5: (Left) The conceptual design of a stepper motor.   (Right) A partially disassembled stepper motor with some of the solenoid windings exposed.  Figures taken from <a href =\"https://freesvg.org/schrittmotor-01-c\">FreeSVG</a> and <a href =\"https://commons.wikimedia.org/wiki/File:Stepper_motor_1.jpg\">Wikimedia Commons</a>.</b>\n",
    "</center>\n",
    "</p>\n",
    "\n",
    " \n",
    "## Creating uniform magnetic fields...\n",
    " \n",
    "In Lab #7, you will place a compass inside a solenoid.  If the current in the solenoid is zero, then the compass needle will align with the direction of the horizontal component of Earth's magnetic field, $\\vec{B}_\\parallel$.  This situation is depicted in **Fig. 6** which shows a compass placed in the centre of the bore of a solenoid with the solenoid's axis aligned perpendicularly to Earth's magnetic field.  Because the current is zero, the orientation of the compass needle is determined entirely by Earth's magnetic field.\n",
    "\n",
    "<p>\n",
    "<center>\n",
    "<img src=\"https://raw.githubusercontent.com/UBC-Okanagan-Physics-Labs/PHYS-121-images/main/Pre-Lab-7/images/solenoid_Izero-.jpg\" alt=\"Compass in a solenoid\" style=\"width: 40%; height: auto;\" /><br>\n",
    "    <b>Fig. 6: A compass inside a solenoid with $I=0$.  Figure adapted from images taken from <a href =\"https://freesvg.org/compass-simple\">FreeSVG</a> and <a href =\"https://commons.wikimedia.org/wiki/File:VFPt_magnet_B_currents.svg\">Wikimedia Commons</a>.</b>\n",
    "</center>\n",
    "</p>\n",
    "\n",
    "Next, a small current is supplied to the solenoid.  In this case, the solenoid produces a uniform magnetic field $\\vec{B}_\\mathrm{S}$ that is perpendicular to $\\vec{B}_\\parallel$.  The compass needle now aligns with the net magnetic field given by:\n",
    "\n",
    "$$\n",
    "\\vec{B}_\\mathrm{net} = \\vec{B}_\\parallel + \\vec{B}_\\mathrm{S}\n",
    "$$\n",
    "\n",
    "which makes an angle $\\varphi$ with respect to $\\vec{B}_\\parallel$.  See **Fig. 7**.\n",
    "\n",
    "<p>\n",
    "<center>\n",
    "<img src=\"https://raw.githubusercontent.com/UBC-Okanagan-Physics-Labs/PHYS-121-images/main/Pre-Lab-7/images/solenoid_Iweak.jpg\" alt=\"Compass in a solenoid\" style=\"width: 40%; height: auto;\" /><br>\n",
    "    <b>Fig. 7: A compass inside a solenoid with a small current $I$.  Figure adapted from images taken from <a href =\"https://freesvg.org/compass-simple\">FreeSVG</a> and <a href =\"https://commons.wikimedia.org/wiki/File:VFPt_magnet_B_currents.svg\">Wikimedia Commons</a>.</b>\n",
    "</center>\n",
    "</p>\n",
    "\n",
    "Of course, as depicted in **Fig. 8**, increasing the current $I$ increases the strength of $\\vec{B}_\\mathrm{S}$ which causes the compass needle to rotate further away from the direction of $\\vec{B}_\\parallel$.\n",
    "\n",
    "<p>\n",
    "<center>\n",
    "<img src=\"https://raw.githubusercontent.com/UBC-Okanagan-Physics-Labs/PHYS-121-images/main/Pre-Lab-7/images/solenoid_Istrong.jpg\" alt=\"Compass in a solenoid\" style=\"width: 40%; height: auto;\" /><br>\n",
    "    <b>Fig. 8: A compass inside a solenoid with a large current $I$.  Figure adapted from images taken from <a href =\"https://freesvg.org/compass-simple\">FreeSVG</a> and <a href =\"https://commons.wikimedia.org/wiki/File:VFPt_magnet_B_currents.svg\">Wikimedia Commons</a>.</b>\n",
    "</center>\n",
    "</p>\n",
    "\n",
    "In Lab #7, you will measure the angle $\\varphi$ that the compass needle makes with respect to $\\vec{B}_\\parallel$ as a function of the current $I$ supplied to the solenoid.  You will use this data to determine the strength of the horizontal component of Earth's magnetic field."
   ]
  },
  {
   "cell_type": "markdown",
   "id": "5edb375b-45a0-48e5-b925-6e0177043b1c",
   "metadata": {
    "deletable": false,
    "editable": false,
    "slideshow": {
     "slide_type": ""
    },
    "tags": []
   },
   "source": [
    "# <div style=\"background-color:rgba(255, 204, 255, 0.5); text-align:center; vertical-align: middle; padding:40px 0; margin-top:30px\"><span style=\"color:rgba(102, 0, 204, 1);\">Part 2 - Magnetic Field Calculation</span></div>"
   ]
  },
  {
   "cell_type": "markdown",
   "id": "159e4b05",
   "metadata": {
    "deletable": false,
    "editable": false,
    "slideshow": {
     "slide_type": ""
    },
    "tags": []
   },
   "source": [
    "***\n",
    "**<span style=\"color:blue\">Question 2.1</span>**  **<span style=\"color:red\">(1 mark)</span>**\n",
    "\n",
    "Suppose you place a compass in the centre of a solenoid as shown in **Fig. 7**.  The axis of the solenoid is perpendicular to Earth's magnetic field and carries a nonzero current.  The compass needle makes an angle $\\varphi$ with respect to $\\vec{B}_\\parallel$.  Suppose now that the compass is pulled away from the centre of the solenoind and placed close to one of the ends.  Based on the solenoid magnetic field shown on the left-hand side of **Fig. 3**, the angle $\\varphi$ would:\n",
    "- (a) increase\n",
    "- (b) decrease\n",
    "- (c) remain unchanged"
   ]
  },
  {
   "cell_type": "markdown",
   "id": "2d23fa41",
   "metadata": {
    "deletable": false,
    "editable": false,
    "slideshow": {
     "slide_type": ""
    },
    "tags": []
   },
   "source": [
    "***\n",
    "**<span style=\"color:blue\">Answer 2.1:</span>**\n",
    "\n",
    "Replace the ... in the cell below with your answer.  Your answer should be a single character (a, b, or c) between single or double quotes.  \n",
    "\n",
    "*** Please do not change anything to the left of the equals sign. ***"
   ]
  },
  {
   "cell_type": "code",
   "execution_count": null,
   "id": "8fc0c172-a91d-4a50-83bf-0a8a04aec067",
   "metadata": {
    "editable": true,
    "slideshow": {
     "slide_type": ""
    },
    "tags": []
   },
   "outputs": [],
   "source": [
    "a2_1 = ..."
   ]
  },
  {
   "cell_type": "code",
   "execution_count": null,
   "id": "b4117854",
   "metadata": {
    "deletable": false,
    "editable": false
   },
   "outputs": [],
   "source": [
    "PHYS121.graderCheck([a2_1], ['a2_1'], grader.check('q2.1'))"
   ]
  },
  {
   "cell_type": "markdown",
   "id": "0215efe6-faac-42b7-9cd3-753d368de009",
   "metadata": {
    "deletable": false,
    "editable": false,
    "slideshow": {
     "slide_type": ""
    },
    "tags": []
   },
   "source": [
    "Below, we define a set of variables which will be used to solve **Question 2.2**. `Bp1` represents the magnitude of the parallel component of Earth's magnetic field $B_\\parallel$, `Bs` is the magnitude of the solenoid's magnetic field $B_\\mathrm{S}$, and `phi` is the angle $\\varphi$ that the compass needle makes with $\\vec{B}_\\parallel$. "
   ]
  },
  {
   "cell_type": "markdown",
   "id": "3e62acd5",
   "metadata": {
    "deletable": false,
    "editable": false,
    "slideshow": {
     "slide_type": ""
    },
    "tags": []
   },
   "source": [
    "***\n",
    "**<span style=\"color:blue\">Question 2.2</span>**  **<span style=\"color:red\">(1 mark)</span>**\n",
    "\n",
    "The net magnetic field at the position of the compass is:\n",
    "\n",
    "$$ \\vec{B}_\\mathrm{net} = \\vec{B}_\\parallel + \\vec{B}_\\mathrm{S} $$\n",
    "\n",
    "<p>\n",
    "<center>\n",
    "<img src=\"https://raw.githubusercontent.com/UBC-Okanagan-Physics-Labs/PHYS-121-images/f7701c648dda3fe0dcf507edf509bbc1d5d3d753/Pre-Lab-7/images/btot.svg\" style=\"width: 15%\" /><br>\n",
    "<b>Fig. 9: The net magnetic field is given by superposition of Earth's magnetic field $\\vec{B}_\\parallel$ and the solenoid's magnetic field $\\vec{B}_\\mathrm{S}$. The direction of the net field can be changed by varying the current in the solenoid. </b>\n",
    "</center>\n",
    "</p>\n",
    "\n",
    "\n",
    "The compass needle will point along the direction of $\\vec{B}_\\mathrm{net}$. Noting that $\\vec{B}_\\parallel\\perp\\vec{B}_\\mathrm{S}$, use some simple trigonometric analysis to find an expression relating the angle $\\varphi$ in **Fig. 9** above and the magnitudes of the two magnetic fields: $B_\\parallel = \\left\\vert \\vec{B}_\\parallel\\right\\vert$ and $B_\\mathrm{S} = \\left\\vert \\vec{B}_\\mathrm{S}\\right\\vert$. Solve your expression for $B_\\parallel$ and enter the result below."
   ]
  },
  {
   "cell_type": "markdown",
   "id": "9d407f48-3f0a-4ad7-957a-0d813e384d61",
   "metadata": {
    "deletable": false,
    "editable": false,
    "slideshow": {
     "slide_type": ""
    },
    "tags": []
   },
   "source": [
    "***\n",
    "**<span style=\"color:blue\">Answer 2.2:</span>**\n",
    "\n",
    "Using the cell below, replace the ... with your expression for $B_\\parallel$ (denoted `Bp1` below) in terms of the variables `Bs`, and `phi`.\n",
    "\n",
    "To express your answer, we are using a package called ```sympy```. This allows us to symbolically represent a variable, rather than having them assigned to numerical values. We are also importing ```tan``` from this package to allow for symbolic representation of this trigonometric function. You can type ```tan(phi)```, to symbolically represent $\\tan(\\varphi)$ in the code below.\n",
    "\n",
    "*** Please do not change anything to the left of the equals sign. ***"
   ]
  },
  {
   "cell_type": "code",
   "execution_count": null,
   "id": "eab60809",
   "metadata": {
    "editable": true,
    "slideshow": {
     "slide_type": ""
    },
    "tags": []
   },
   "outputs": [],
   "source": [
    "# Import the sympy package\n",
    "from sympy import symbols, tan\n",
    "\n",
    "# Please do not delete or modify the line directly below this comment.  \n",
    "# It is used to allow the user to enter symbol expressions into this cell.\n",
    "Bp1, Bs, phi = symbols('Bp1 Bs phi')\n",
    "\n",
    "# Enter a symbolic expression for Bp1 in terms of Bs and phi.\n",
    "Bp1 = ...\n",
    "\n",
    "# Display the symbolic expression\n",
    "Bp1"
   ]
  },
  {
   "cell_type": "code",
   "execution_count": null,
   "id": "f292edce",
   "metadata": {
    "deletable": false,
    "editable": false
   },
   "outputs": [],
   "source": [
    "PHYS121.graderCheck([Bp1], ['Bp1'], grader.check('q2.2'))"
   ]
  },
  {
   "cell_type": "markdown",
   "id": "afdba93b",
   "metadata": {
    "deletable": false,
    "editable": false,
    "slideshow": {
     "slide_type": ""
    },
    "tags": []
   },
   "source": [
    "***\n",
    "**<span style=\"color:blue\">Question 2.3</span>**  **<span style=\"color:red\">(1 mark)</span>**\n",
    "\n",
    "In Lab #7, the goal will be to determine Earth's magnetic field.  For that reason, we should find an expression for $B_\\parallel$ in terms of quantities that we can measure. The angle $\\varphi$ is easy to measure, but it's not obvious how to measure $B_\\mathrm{S}$. \n",
    "\n",
    "Recall Eq. (1) for the magnetic field of solenoid:\n",
    "\n",
    "$$\n",
    "B_\\mathrm{S} = \\mu_0 n I\n",
    "$$\n",
    "\n",
    "Use this result and your expression from **Question 2.2** to find an expression for $B_\\parallel$ in terms of the solenoid current $I$.  You expression should also involve the constant $\\mu_0$, the density of turns $n$, and the angle $\\varphi$.  In the cell below, replace the ... with your expression for $B_\\parallel$.\n",
    "\n",
    "*** Please do not change anything to the left of the equals sign. ***"
   ]
  },
  {
   "cell_type": "markdown",
   "id": "7cef4dfd-1849-468b-a8b1-71cc24969025",
   "metadata": {
    "deletable": false,
    "editable": false,
    "slideshow": {
     "slide_type": ""
    },
    "tags": []
   },
   "source": [
    "***\n",
    "**<span style=\"color:blue\">Answer 2.3:</span>**\n",
    "\n",
    "In the cell below, type a symbolic expression for `Bp2` in terms of `phi`, `I`, `n`, and `u0`. Remember that $\\mu_0$ just represents a constant equal to $4\\pi \\times 10^{-7}\\rm\\ T\\cdot m/A$."
   ]
  },
  {
   "cell_type": "code",
   "execution_count": null,
   "id": "7f57b3bf",
   "metadata": {
    "editable": true,
    "slideshow": {
     "slide_type": ""
    },
    "tags": []
   },
   "outputs": [],
   "source": [
    "# Please do not delete or modify the line directly below this comment.  \n",
    "# It is used to allow the user to enter symbol expressions into this cell.\n",
    "Bp2, n, I, u0 = symbols('Bp2 n I u0')\n",
    "\n",
    "# Enter a symbolic expression for Bp2 in terms of I, n, u0, and phi.\n",
    "Bp2 = ...\n",
    "\n",
    "# Display the symbolic expression\n",
    "Bp2"
   ]
  },
  {
   "cell_type": "code",
   "execution_count": null,
   "id": "26742435",
   "metadata": {
    "deletable": false,
    "editable": false
   },
   "outputs": [],
   "source": [
    "PHYS121.graderCheck([Bp2], ['Bp2'], grader.check('q2.3'))"
   ]
  },
  {
   "cell_type": "markdown",
   "id": "74bedef2",
   "metadata": {
    "deletable": false,
    "editable": false,
    "slideshow": {
     "slide_type": ""
    },
    "tags": []
   },
   "source": [
    "***\n",
    "**<span style=\"color:blue\">Question 2.4</span>**  **<span style=\"color:red\">(1 mark)</span>**\n",
    "\n",
    "To get a better measurement of $B_\\parallel$, we should take a set of measurements of $\\varphi$ over a range of currents $I$. The expression from **Question 2.3** allows us to express $\\tan(\\varphi)$ as a function of the solenoid current $I$:\n",
    "\n",
    "$$\n",
    "\\tan(\\varphi) = \\left(\\frac{\\mu_0 n}{B_\\parallel}\\right)I\n",
    "\\tag{2}\n",
    "$$\n",
    "\n",
    "\n",
    "Suppose you were to plot $\\tan\\varphi$ as a function of $I$ -- the result would be a linear set of data with a $y$-intercept of zero as shown in **Fig. 10**. \n",
    "\n",
    "<br>\n",
    "<p>\n",
    "<center>\n",
    "<img src=\"https://raw.githubusercontent.com/UBC-Okanagan-Physics-Labs/PHYS-121-images/main/Pre-Lab-7/images/linearPlot.png\" style=\"width: 35%\" />\n",
    "<br>\n",
    "<b>Fig. 10: An example plot of $\\tan\\varphi$ as a function of $I$ (using made up data).  The red line represents a linear fit to the data points. </b></center>\n",
    "</p>\n",
    "\n",
    "The slope $m$ of the $\\tan(\\varphi)$ versus $I$ plot is:\n",
    "\n",
    "- (a)  $\\quad m = \\dfrac{\\mu_0 n}{B_\\parallel}$\n",
    "  \n",
    "- (b) $\\quad m = -\\dfrac{\\mu_0 n}{B_\\parallel}$\n",
    "\n",
    "- (c) $\\quad m = \\dfrac{1}{B_\\parallel}$\n",
    "\n",
    "- (d) $\\quad m = -\\dfrac{1}{B_\\parallel}$\n",
    "\n",
    "- (e) $\\quad m = \\dfrac{B_\\parallel}{\\mu_0 n}$\n",
    "\n",
    "- (f) $\\quad m = -\\dfrac{B_\\parallel}{\\mu_0 n}$"
   ]
  },
  {
   "cell_type": "markdown",
   "id": "6edfed12-9fb3-4c10-8f92-2036c3fa80b0",
   "metadata": {
    "deletable": false,
    "editable": false,
    "slideshow": {
     "slide_type": ""
    },
    "tags": []
   },
   "source": [
    "***\n",
    "**<span style=\"color:blue\">Answer 2.4:</span>**\n",
    "\n",
    "Replace the ... in the cell below with your answer.  Your answer should be a single character (a, b, c, d, e, or f) between single or double quotes.  \n",
    "\n",
    "*** Please do not change anything to the left of the equals sign. ***"
   ]
  },
  {
   "cell_type": "code",
   "execution_count": null,
   "id": "d652df6f",
   "metadata": {
    "editable": true,
    "slideshow": {
     "slide_type": ""
    },
    "tags": []
   },
   "outputs": [],
   "source": [
    "a2_4 = ..."
   ]
  },
  {
   "cell_type": "code",
   "execution_count": null,
   "id": "c72d3b19",
   "metadata": {
    "deletable": false,
    "editable": false
   },
   "outputs": [],
   "source": [
    "PHYS121.graderCheck([a2_4], ['a2_4'], grader.check('q2.4'))"
   ]
  },
  {
   "cell_type": "markdown",
   "id": "f8016fd3",
   "metadata": {
    "deletable": false,
    "editable": false,
    "slideshow": {
     "slide_type": ""
    },
    "tags": []
   },
   "source": [
    "# <div style=\"background-color:rgba(255, 204, 255, 0.5); text-align:center; vertical-align: middle; padding:40px 0; margin-top:30px\"><span style=\"color:rgba(102, 0, 204, 1);\">Part 3 - Feedback and Submission</span></div>"
   ]
  },
  {
   "cell_type": "markdown",
   "id": "384c3b97",
   "metadata": {
    "deletable": false,
    "editable": false,
    "slideshow": {
     "slide_type": ""
    },
    "tags": []
   },
   "source": [
    "<!-- BEGIN QUESTION -->\n",
    "\n",
    "**<span style=\"color:blue\">Question 3.1:</span>**  \n",
    "\n",
    "We welcome your feedback on the PHYS 121 pre-labs!  Please feel free to include any comments you have about this pre-lab in the cell below.  Your comments will be taken into consideration when revising/improving the PHYS 121 labs and pre-labs.  You can suggest improvements, point out anything that was unclear, comment on the strengths and weaknesses of the pre-lab, ...\n",
    "\n",
    "This question is optional and will have no impact on your pre-lab or lab grade."
   ]
  },
  {
   "cell_type": "markdown",
   "id": "d449682f",
   "metadata": {
    "editable": true,
    "jupyter": {
     "source_hidden": true
    },
    "slideshow": {
     "slide_type": ""
    },
    "tags": []
   },
   "source": [
    "***\n",
    "**<span style=\"color:blue\">Answer 3.1:</span>**\n",
    "\n",
    "[//]: # (Please do not delete this comment or anything above it.  Anything below this comment can be deleted.)  \n",
    "\n",
    "Double click this cell and enter your text here.  When done, hit 'Shift' + 'Enter' to execute the cell.  You may delete this text when entering your answer. "
   ]
  },
  {
   "cell_type": "markdown",
   "id": "ce80617c",
   "metadata": {
    "deletable": false,
    "editable": false,
    "slideshow": {
     "slide_type": ""
    },
    "tags": []
   },
   "source": [
    "<!-- END QUESTION -->\n",
    "\n",
    "---\n",
    "\n",
    "To double-check your work, the cell below will rerun all of the autograder tests."
   ]
  },
  {
   "cell_type": "code",
   "execution_count": null,
   "id": "b8a8fa3a-193d-4923-8286-952ac7d9dc8e",
   "metadata": {
    "deletable": false,
    "editable": false,
    "slideshow": {
     "slide_type": ""
    },
    "tags": []
   },
   "outputs": [],
   "source": [
    "grader.check_all()"
   ]
  },
  {
   "cell_type": "markdown",
   "id": "deef41a6",
   "metadata": {
    "deletable": false,
    "editable": false,
    "slideshow": {
     "slide_type": ""
    },
    "tags": []
   },
   "source": [
    "***\n",
    "\n",
    "## Submission\n",
    "\n",
    "Make sure you have run all cells in your notebook in order before running the cell below, so that all images/graphs appear in the output. The cell below will generate a zip file for you to submit. **Please save before exporting!**\n",
    "\n",
    "Once you've completed this notebook:\n",
    "- Save your work.\n",
    "- Run 'grader.export()' to generate a .zip file containing all of the materials that you will submit.\n",
    "- Download the generated .zip file.\n",
    "- Upload the .zip file to the PHYS 121 Lab Canvas gradebook.\n",
    "- **Do NOT change the number of the .zip file.**\n",
    "- **Do NOT modify the contents of the .zip file.**\n",
    "\n",
    "Here is a <a href = \"https://raw.githubusercontent.com/UBC-Okanagan-Physics-Labs/PHYS-121-images/main/general/gifs/Submission.gif\">GIF</a> showing how these steps are completed.  Once your completed notebook has been uploaded to the Canvas gradebook, you're done!"
   ]
  },
  {
   "cell_type": "code",
   "execution_count": null,
   "id": "28711b36",
   "metadata": {
    "deletable": false,
    "editable": false,
    "slideshow": {
     "slide_type": ""
    },
    "tags": []
   },
   "outputs": [],
   "source": [
    "# Save your notebook first, then run this cell (place your cursor in the cell and then hit Shift + Enter) to export \n",
    "# your submission.  Uploaded the .zip file that is generated to the gradebook of the Canvas shell for the PHYS 121 lab.\n",
    "grader.export(files = ['PHYS121_DataLogger.txt'])"
   ]
  },
  {
   "cell_type": "markdown",
   "id": "8555e062",
   "metadata": {
    "deletable": false,
    "editable": false,
    "slideshow": {
     "slide_type": ""
    },
    "tags": []
   },
   "source": [
    "# <div style=\"background-color:rgba(255, 204, 255, 0.5); text-align:center; vertical-align: middle; padding:40px 0; margin-top:30px\"><span style=\"color:rgba(102, 0, 204, 1);\">Playground (optional)</span></div>\n",
    "\n",
    "Feel free to add as many cells as you like below and use them as a playground for further independent investigations.  These cells won't be graded, so feel free to use them in any way that you like.  For example, you could compare Gaussian distributions with different standard deviations and/or means. "
   ]
  },
  {
   "cell_type": "code",
   "execution_count": null,
   "id": "b057ce03",
   "metadata": {},
   "outputs": [],
   "source": [
    "# Here's an empty code cell that you can use.\n"
   ]
  },
  {
   "cell_type": "code",
   "execution_count": null,
   "id": "e2726551",
   "metadata": {},
   "outputs": [],
   "source": [
    "# Here's another empty code cell that you can use.\n"
   ]
  },
  {
   "cell_type": "code",
   "execution_count": null,
   "id": "33470880",
   "metadata": {},
   "outputs": [],
   "source": [
    "# Here's yet another empty code cell that you can use.  \n",
    "# If you need more, you can add cells using the '+' icon in the menu bar at to the top of the screen.\n"
   ]
  },
  {
   "cell_type": "markdown",
   "id": "1182d7e3",
   "metadata": {
    "deletable": false,
    "editable": false,
    "slideshow": {
     "slide_type": ""
    },
    "tags": []
   },
   "source": [
    "<img src=\"https://raw.githubusercontent.com/UBC-Okanagan-Physics-Labs/PHYS-121-images/main/general/images/ubc-logo-full.jpg\" width=\"500\"/>"
   ]
  },
  {
   "cell_type": "markdown",
   "id": "c1776693",
   "metadata": {},
   "source": [
    "Last update: March 5, 2024"
   ]
  }
 ],
 "metadata": {
  "kernelspec": {
   "display_name": "Python 3 (ipykernel)",
   "language": "python",
   "name": "python3"
  },
  "language_info": {
   "codemirror_mode": {
    "name": "ipython",
    "version": 3
   },
   "file_extension": ".py",
   "mimetype": "text/x-python",
   "name": "python",
   "nbconvert_exporter": "python",
   "pygments_lexer": "ipython3",
   "version": "3.10.6"
  },
  "otter": {
   "OK_FORMAT": true,
   "tests": {
    "q2.1": {
     "name": "q2.1",
     "points": null,
     "suites": [
      {
       "cases": [
        {
         "code": ">>> isinstance(a2_1, str)\nTrue",
         "failure_message": "Your answer must be entered as a string (i.e. surrounded by single or double quotes).",
         "hidden": false,
         "locked": false,
         "points": 0
        },
        {
         "code": ">>> a2_1.lower() in ['a', 'b', 'c']\nTrue",
         "failure_message": "Your answer must be a string of one of 'a', 'b', or 'c'.",
         "hidden": false,
         "locked": false,
         "points": 0
        },
        {
         "code": ">>> PHYS121.get_hash(a2_1.lower()) == '92eb5ffee6ae2fec3ad71c777531578f'\nTrue",
         "failure_message": "Note that the magnetic field of the solenoid gets weaker near its ends.",
         "hidden": false,
         "locked": false,
         "points": 1
        }
       ],
       "scored": true,
       "setup": "",
       "teardown": "",
       "type": "doctest"
      }
     ]
    },
    "q2.2": {
     "name": "q2.2",
     "points": null,
     "suites": [
      {
       "cases": [
        {
         "code": ">>> isinstance(Bp1, sympy.Expr)\nTrue",
         "failure_message": "Bp1 must be entered as a symbolic expression in terms of Bs and phi.",
         "hidden": false,
         "locked": false,
         "points": 0
        },
        {
         "code": ">>> Bp1 == Bs / tan(phi)\nTrue",
         "failure_message": "Note that Bp1 and Bs form a right-angle triangle.  Bp1 is the side adjacenet to the angle phi and Bs is opposite phi.",
         "hidden": false,
         "locked": false,
         "points": 1
        }
       ],
       "scored": true,
       "setup": "",
       "teardown": "",
       "type": "doctest"
      }
     ]
    },
    "q2.3": {
     "name": "q2.3",
     "points": null,
     "suites": [
      {
       "cases": [
        {
         "code": ">>> isinstance(Bp2, sympy.Expr)\nTrue",
         "failure_message": "Bp2 must be entered as a symbolic expression in terms of I, n, u0, and phi.",
         "hidden": false,
         "locked": false,
         "points": 0
        },
        {
         "code": ">>> Bp2 == u0 * n * I / tan(phi)\nTrue",
         "failure_message": "Substitute Bs = u0*n*I into your solution to Question 2.2",
         "hidden": false,
         "locked": false,
         "points": 1
        }
       ],
       "scored": true,
       "setup": "",
       "teardown": "",
       "type": "doctest"
      }
     ]
    },
    "q2.4": {
     "name": "q2.4",
     "points": null,
     "suites": [
      {
       "cases": [
        {
         "code": ">>> isinstance(a2_4, str)\nTrue",
         "failure_message": "Your answer must be entered as a string (i.e. surrounded by single or double quotes).",
         "hidden": false,
         "locked": false,
         "points": 0
        },
        {
         "code": ">>> a2_4.lower() in ['a', 'b', 'c', 'd', 'e', 'f']\nTrue",
         "failure_message": "Your answer must be a string of one of 'a', 'b', 'c', 'd', 'e' or 'f'.",
         "hidden": false,
         "locked": false,
         "points": 0
        },
        {
         "code": ">>> PHYS121.get_hash(a2_4.lower()) == '0cc175b9c0f1b6a831c399e269772661'\nTrue",
         "failure_message": "Equation (2) is of the form tan(phi) = m*I, where m is the slope.",
         "hidden": false,
         "locked": false,
         "points": 1
        }
       ],
       "scored": true,
       "setup": "",
       "teardown": "",
       "type": "doctest"
      }
     ]
    }
   }
  }
 },
 "nbformat": 4,
 "nbformat_minor": 5
}
