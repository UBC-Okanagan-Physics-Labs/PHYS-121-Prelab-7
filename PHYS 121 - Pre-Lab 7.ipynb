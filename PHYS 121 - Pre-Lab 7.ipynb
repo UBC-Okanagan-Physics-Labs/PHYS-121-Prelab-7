{
 "cells": [
  {
   "cell_type": "markdown",
   "id": "896dc676",
   "metadata": {
    "deletable": false,
    "editable": false,
    "tags": []
   },
   "source": [
    "# <div style=\"background-color:rgba(204, 229, 255, 0.5); text-align:center; vertical-align: middle; padding:40px 0; margin-top:30px\"><span style=\"color:rgba(0, 76, 153, 1);\">**PHYS 121 Pre-Lab #7**<span style=\"color:red\"> $\\to$ (4 possible marks)</span> </span></div> \n",
    "\n",
    "<font size =\"4\"><span style=\"color:purple\">We recommend that you complete this notebook using either the [Google Chrome](https://www.google.com/intl/en_ca/chrome/) or [Mozilla Firefox](https://www.mozilla.org/en-CA/firefox/new/) browser.  Chrome and Firefox are both available for Windows, Mac, and Linux operating systems.  The PHYS 121 Jupyter notebooks should work in other browsers, but we have specifically verfied that they work well in both Chrome and Firefox.</span></font>\n",
    "\n",
    "# Earth's Magnetic Field"
   ]
  },
  {
   "cell_type": "markdown",
   "id": "54054b25",
   "metadata": {
    "deletable": false,
    "editable": false,
    "tags": []
   },
   "source": [
    "***\n",
    "## Learning Objectives:\n",
    "* <b><span style=\"color:rgba(0, 153, 76, 1);\"> Explore the duality between magnetism and electricity as described by Ampère's law and Faraday's law.  </span></b>\n",
    "* <b><span style=\"color:rgba(0, 153, 76, 1);\"> Develop an experimental method to measure the properties of Earth's magnetic field at our posiition on Earth's surface. </span></b>"
   ]
  },
  {
   "cell_type": "markdown",
   "id": "544acc80",
   "metadata": {
    "deletable": false,
    "editable": false,
    "tags": []
   },
   "source": [
    "***\n",
    "## Autograding:\n",
    "The PHYS 121 Pre-lab assignments and Labs will make use of some autograding.  To make the autograding work, the two cells below needs to be executed.  The first one installs the required packages and the second imports required packages/modules.  If 'PHYS121.Installer()' reports that some functions have been installed, the user should restart the \"kernel\" and then exectute the PHYS121.Installer() cell a second time.  The second time the installer function is run, it should report that **\"All packages already installed. Please proceed\"**.\n",
    "\n",
    "If necessary, the kernel can be restarted by selecting **Kernel** $\\to$ **Restart Kernel** from the menu options at to the top of the page.  Here is a <a href = \"https://cmps-people.ok.ubc.ca/jbobowsk/PHYS_121_Lab/images/restartKernel.gif\">GIF</a> showing how to restart the kernel.\n",
    "\n",
    "The 'PHYS121.Installer()' command requires the file 'PHYS121.py', which you should see included in the list of files along the left-hand side of the screen."
   ]
  },
  {
   "cell_type": "code",
   "execution_count": null,
   "id": "93ec9ffb",
   "metadata": {
    "deletable": false,
    "editable": false,
    "tags": []
   },
   "outputs": [],
   "source": [
    "# Import PHYS121.py and then run the installer function.\n",
    "import PHYS121\n",
    "PHYS121.Installer()"
   ]
  },
  {
   "cell_type": "code",
   "execution_count": null,
   "id": "04457e0f",
   "metadata": {
    "deletable": false,
    "editable": false,
    "tags": []
   },
   "outputs": [],
   "source": [
    "# Initialize Otter\n",
    "import otter\n",
    "grader = otter.Notebook(\"PHYS 121 - Pre-Lab 7.ipynb\")"
   ]
  },
  {
   "cell_type": "markdown",
   "id": "1e247d5f",
   "metadata": {},
   "source": [
    "***\n",
    "## Import Modules:\n",
    "Execute the cell below to import a number of useful pre-built Python modules that will be used in the PHYS 121 pre-labs and labs."
   ]
  },
  {
   "cell_type": "code",
   "execution_count": null,
   "id": "c1c0feee",
   "metadata": {},
   "outputs": [],
   "source": [
    "import numpy as np\n",
    "import matplotlib.pyplot as plt\n",
    "import pandas as pd\n",
    "from matplotlib.pyplot import cm # used to generate a sequence of colours for plotting\n",
    "from scipy.optimize import curve_fit\n",
    "from IPython.display import HTML as html_print\n",
    "from IPython.display import display, Markdown, Latex\n",
    "from IPython.display import YouTubeVideo\n",
    "import math"
   ]
  },
  {
   "cell_type": "markdown",
   "id": "1a8612ed",
   "metadata": {
    "deletable": false,
    "editable": false,
    "tags": []
   },
   "source": [
    "# <div style=\"background-color:rgba(255, 204, 255, 0.5); text-align:center; vertical-align: middle; padding:40px 0; margin-top:30px\"><span style=\"color:rgba(102, 0, 204, 1);\">Part 1 - Introduction</span></div>\n",
    "\n",
    "## Earth's magnetic field...\n",
    "\n",
    "You are likely aware of the idea that the Earth has north and south magnetic poles. However, these names are a bit misleading. For one thing, since Earth's geographic north attracts the north pole of a bar magnet, Earth's *geographic* north pole is  a *magnetic* south pole.  This situation is depicted in **Fig. 1**.\n",
    "\n",
    "<p>\n",
    "<center>\n",
    "<img src=\"https://raw.githubusercontent.com/UBC-Okanagan-Physics-Labs/PHYS-121-images/main/Pre-Lab-7/images/Earth-field.jpg\" alt=\"Earth's magnetic field\" style=\"width: 45%; height: auto;\" /><br>\n",
    "    <b>Fig. 1: The <i>magnetic</i> south pole of the Earth is located at its <i>geographic</i> north pole.    Figure adapted from <a href =\"https://commons.wikimedia.org/wiki/File:Openstax_college-physics_22.4_earth-magnet.jpg\">Wikimedia Commons</a>.</b>\n",
    "</center>\n",
    "</p>\n",
    "\n",
    "Further, these poles don't exactly coincide with the geological poles, and in fact the north pole is wandering NNW at about 55km per year. To confuse matters even more, by taking note of how flows of ferromagnetic magma have solidified in the past, we know that the Earth's magnetic field undergos occasional **geomagnetic reversals**, in which the magnetic poles effectively swap places.  \n",
    "\n",
    "Aside from all these complications, the magnetic field of the Earth is stable enough for us to use it for navigation. In a compass, a magnetized needle on a low-friction bearing will swivel to align itself with the local magnetic field. This tells us what *direction* the horizontal component of the local field is pointing in, but what of the *magnitude*? Where you stand, how strong is the Earth's magnetic field?\n",
    "\n",
    "In this pre-lab, you will use simple vector analysis to see how it's possible to measure the local magnetic field using only a compass, a coil of wire, and a DC power source. This will equip you with the analytic tools to carry out the actual experiment in this week's lab.  \n",
    "\n",
    "## Creating uniform magnetic fields...\n",
    "\n",
    "The technique that we'll use to probe the magnetic field of the Earth requires use to generate a a uniform magnetic field and control its strength.  Before considering how we can produce a uniform magnetic field, let's first recall that capacitors can be used to produce uniform electric fields.  The left-had side of **Fig. 2** shows the electric field produced by a charged parallel-plate capacitor.\n",
    "\n",
    "<p>\n",
    "<center>\n",
    "<img src=\"https://raw.githubusercontent.com/UBC-Okanagan-Physics-Labs/PHYS-121-images/main/Pre-Lab-7/images/uniformE.png\" alt=\"Uniform electric field\" style=\"width: 100%; height: auto;\" /><br>\n",
    "    <b>Fig. 2: The electric field between the plates of a charged capacitor is approximately uniform.  Figure adapted from <a href =\"https://commons.wikimedia.org/wiki/File:VFPt_capacitor-round-plate.svg\">Wikimedia Commons</a>.</b>\n",
    "</center>\n",
    "</p>\n",
    "\n",
    "Notice that:\n",
    " - The electric field is strong between the plates and relatively weak everywhere else\n",
    " - The electric field between the plates is approximately uniform, especially in the region near the centre of the capacitor\n",
    " \n",
    "It is common to approximate the electric field of a capacitor as shown onm the right-hand side of **Fig. 2**.  In this approximation, the electric field between the plates is uniform with a magnitude given by $E=\\sigma/\\varepsilon_0$, where $\\sigma$ is the charge per unit area on the plates of the capacitor.  The electric field everywhere else is taken to be zero.  This approximation is very good when the plates are large compared the gap between the two plates. \n",
    " \n",
    "Whereas charge is a source of electric fields, we will see in class that *current* (or charge in motion) is a source of magnetic fields.  We can generate a uniform magnetic field using a coil of wire carrying a constant current $I$.  The left-hand side of **Fig. 3** shows the magnetic field created by a cylindrical coil supplied with a constant current.  These coils are often called **solenoids** or **inductors**.  \n",
    "\n",
    "<p>\n",
    "<center>\n",
    "<img src=\"https://raw.githubusercontent.com/UBC-Okanagan-Physics-Labs/PHYS-121-images/main/Pre-Lab-7/images/uniformB.png\" alt=\"Uniform magnetic field\" style=\"width: 100%; height: auto;\" /><br>\n",
    "    <b>Fig. 3: The magnetic field inside a solenoid carrying current $I$ is approximately uniform.  Figure adapted from <a href =\"https://commons.wikimedia.org/wiki/File:VFPt_magnet_B_currents.svg\">Wikimedia Commons</a>.</b>\n",
    "</center>\n",
    "</p>\n",
    " \n",
    "Notice that:\n",
    " - The magnetic field is strong within the bore of the solenoid and relatively weak everywhere else\n",
    " - The magnetic field between the plates is approximately uniform, especially in the region near the centre of the solenoid\n",
    " \n",
    "Like we did for the electric field of the capacitor, it is common to approximate the magnetic field of a solenoid as shown on the right-hand side of **Fig. 3**.  In this approximation, the magnetic field in the bore of the solenoid is uniform and its zero outside the bore.  After studying Ampère's law, we'll be able to show that the magnitude of the uniform magnetic field in the bore is given by:\n",
    "\n",
    "\\begin{align}\n",
    "B_\\mathrm{S} &= \\frac{\\mu_0 N I}{\\ell}\\\\\n",
    "&= \\mu_0 n I\\tag{1}\n",
    "\\end{align}\n",
    "\n",
    "In Eq. (1):\n",
    "\n",
    " - $\\mu_0 = 4\\pi\\times 10^{-7}\\rm\\ N/A^2$ is a constant called the *permeability of free space*\n",
    " - $N$ is the number of windings or loops of wire used to form the solenoid and $\\ell$ is the length of the solenoid\n",
    " - $n = N/\\ell$ is the density of windings or the number of loops per unit length\n",
    " \n",
    "The approximation shown on the right-hand side of **Fig. 3** is very good when then solenoid's length is very long compared to its radius.  When this condition is satisfied, Eq. (1) is valid for points that are not too close to the ends of the solenoid.\n",
    "\n",
    "It is important to emphasize that solenoids are used all of time in practical applications that require uniform magnetic fields.  In these applications, the coils of current-carrying wires are often called *electromagnets*.  Magnetic Resonance Imaging (MRI) scanners use large electromagnets wound with superconducting wires that are cooled to $4\\rm\\ K$ ($-269^\\circ\\rm C$) using liquid helium.  The bore of the electromagnet is large enough for a person to lie inside of it.  **Figure 4** shows a photograph of one of the first MRI scanners.  This electromagnet of this scanner wasn't cooled to low temperature or wound using superconducting wires.\n",
    "\n",
    "<p>\n",
    "<center>\n",
    "<img src=\"https://raw.githubusercontent.com/UBC-Okanagan-Physics-Labs/PHYS-121-images/main/Pre-Lab-7/images/MRI.png\" alt=\"MRI\" style=\"width: 40%; height: auto;\" /><br>\n",
    "    <b>Fig. 4: An early MRI scanner showing the exposed electromagnet/solenoid used to produce a large and approximately uniform magnetic field.  Figure adapted from <a href =\"https://commons.wikimedia.org/wiki/File:MRI_Scanner_Mark_One.jpg\">Wikimedia Commons</a>.</b>\n",
    "</center>\n",
    "</p>\n",
    "\n",
    "As a second example, small solenoids are used in the design of stepper motors which very good control over the motor's speed and position.  See **Fig. 5**.\n",
    "\n",
    "<p>\n",
    "<center>\n",
    "<img src=\"https://raw.githubusercontent.com/UBC-Okanagan-Physics-Labs/PHYS-121-images/main/Pre-Lab-7/images/stepper.png\" alt=\"Stepper motor\" style=\"width: 40%; height: auto;\" /><br>\n",
    "    <b>Fig. 5: (Left) The conceptual design of a stepper motor.   (Right) A partially disassembled stepper motor with some of the solenoid winding exposed.  Figures taken from <a href =\"https://freesvg.org/schrittmotor-01-c\">FreeSVG</a> and <a href =\"https://commons.wikimedia.org/wiki/File:Stepper_motor_1.jpg\">Wikimedia Commons</a>.</b>\n",
    "</center>\n",
    "</p>\n",
    "\n",
    " \n",
    "## Creating uniform magnetic fields...\n",
    " \n",
    "In Lab #7, you will place a compass inside a solenoid.  If the current in the solenoid is zero, then the compass needle will align with the direction of the horizontal component of Earth's magnetic field.  This situation is depicted in **Fig. 6** which shows a compass placed in the centre of the bore of a solenoid.  Because the current is zero, the orientation of the compass needle is determined entirely by Earth's magnetic field $\\vec{B}_\\mathrm{E}$\n",
    "\n",
    "<p>\n",
    "<center>\n",
    "<img src=\"https://raw.githubusercontent.com/UBC-Okanagan-Physics-Labs/PHYS-121-images/main/Pre-Lab-7/images/solenoid_Izero.jpg\" alt=\"Compass in a solenoid\" style=\"width: 40%; height: auto;\" /><br>\n",
    "    <b>Fig. 6: A compass inside a solenoid with $I=0$.  Figure adapted from images taken from <a href =\"https://freesvg.org/compass-simple\">FreeSVG</a> and <a href =\"https://commons.wikimedia.org/wiki/File:VFPt_magnet_B_currents.svg\">Wikimedia Commons</a>.</b>\n",
    "</center>\n",
    "</p>\n",
    "\n",
    "Next, a small current is supplied to the solenoid.  In this case, the solenoid produces a uniform magnetic field $\\vec{B}_\\mathrm{S}$ that is perpendicular to $\\vec{B}_\\mathrm{E}$.  The compass needle now aligns with the net magnetic field:\n",
    "\n",
    "$$\n",
    "\\vec{B}_\\mathrm{net} = \\vec{B}_\\mathrm{E} + \\vec{B}_\\mathrm{S}\n",
    "$$\n",
    "\n",
    "which makes an angle $\\varphi$ with respect to $\\vec{B}_\\mathrm{E}$.  See **Fig. 7**.\n",
    "\n",
    "<p>\n",
    "<center>\n",
    "<img src=\"https://raw.githubusercontent.com/UBC-Okanagan-Physics-Labs/PHYS-121-images/main/Pre-Lab-7/images/solenoid_Iweak.jpg\" alt=\"Compass in a solenoid\" style=\"width: 40%; height: auto;\" /><br>\n",
    "    <b>Fig. 7: A compass inside a solenoid with a small current $I$.  Figure adapted from images taken from <a href =\"https://freesvg.org/compass-simple\">FreeSVG</a> and <a href =\"https://commons.wikimedia.org/wiki/File:VFPt_magnet_B_currents.svg\">Wikimedia Commons</a>.</b>\n",
    "</center>\n",
    "</p>\n",
    "\n",
    "Of course, as depicted in **Fig. 8**, increasing the current $I$ increases the strength of $\\vec{B}_\\mathrm{S}$ which causes the compass needle to rotate further away from the direction of $\\vec{B}_\\mathrm{E}$.\n",
    "\n",
    "<p>\n",
    "<center>\n",
    "<img src=\"https://raw.githubusercontent.com/UBC-Okanagan-Physics-Labs/PHYS-121-images/main/Pre-Lab-7/images/solenoid_Istrong.jpg\" alt=\"Compass in a solenoid\" style=\"width: 40%; height: auto;\" /><br>\n",
    "    <b>Fig. 8: A compass inside a solenoid with a large current $I$.  Figure adapted from images taken from <a href =\"https://freesvg.org/compass-simple\">FreeSVG</a> and <a href =\"https://commons.wikimedia.org/wiki/File:VFPt_magnet_B_currents.svg\">Wikimedia Commons</a>.</b>\n",
    "</center>\n",
    "</p>\n",
    "\n",
    "In Lab #7, you will measure the angle $\\varphi$ that the compass needle makes with respect to $\\vec{B}_\\mathrm{E}$ as a function of the current $I$ supplied to the solenoid.  You will use this data to determine the strength of the horizontal component of Earth's magnetic field."
   ]
  },
  {
   "cell_type": "markdown",
   "id": "0c4b8e09",
   "metadata": {
    "deletable": false,
    "editable": false,
    "tags": []
   },
   "source": [
    "# <div style=\"background-color:rgba(255, 204, 255, 0.5); text-align:center; vertical-align: middle; padding:40px 0; margin-top:30px\"><span style=\"color:rgba(102, 0, 204, 1);\">Part 2 - Magnetic Field Calculation</span></div>"
   ]
  },
  {
   "cell_type": "markdown",
   "id": "df5b8a15",
   "metadata": {
    "deletable": false,
    "editable": false,
    "tags": []
   },
   "source": [
    "<!-- BEGIN QUESTION -->\n",
    "\n",
    "***\n",
    "**<span style=\"color:blue\">Question 2.1</span>**  **<span style=\"color:red\">(1 mark)</span>**\n",
    "\n",
    "Suppose you place a compass in the centre of a solenoid as shown in **Fig. 7**.  The axis of the solenoid is perpendicular to Earth's magnetic field and carries a nonzero current.  The compass needle makes an angle $\\varphi$ with respect to $\\vec{B}_\\mathrm{E}$.  Suppose now that the compass is pulled away from the centre of the solenoind and placed close to one of the ends.  Based on the magnetic field shown on the left-hand side of **Fig. 3**, would the angle $\\varphi$ increase or decrease?  Explain your reasoning. "
   ]
  },
  {
   "cell_type": "markdown",
   "id": "33d78384",
   "metadata": {},
   "source": [
    "***\n",
    "**<span style=\"color:blue\">Answer 2.1:</span>**\n",
    "\n",
    "[//]: # (Please do not delete this comment or anything above it.  Anything below this comment can be deleted.)  \n",
    "\n",
    "Double click this cell and enter your text here.  When done, hit 'Shift' + 'Enter' to execute the cell.  You may delete this text when entering your answer. \n",
    "***"
   ]
  },
  {
   "cell_type": "markdown",
   "id": "a5608041",
   "metadata": {
    "deletable": false,
    "editable": false,
    "tags": []
   },
   "source": [
    "<!-- END QUESTION -->\n",
    "\n",
    "Below, we define a set of variable which will be used to solve **Question 2.2**. `Be` represents the magnitude of Earth's magnetic field $B_\\mathrm{E}$, `Bs` is the magnitude of the solenoid's magnetic field $B_\\mathrm{S}$, and `phi` is the angle $\\varphi$ that the compass needle makes with $\\vec{B}_\\mathrm{E}$. "
   ]
  },
  {
   "cell_type": "markdown",
   "id": "84322406",
   "metadata": {
    "deletable": false,
    "editable": false,
    "tags": []
   },
   "source": [
    "<!-- BEGIN QUESTION -->\n",
    "\n",
    "***\n",
    "**<span style=\"color:blue\">Question 2.2</span>**  **<span style=\"color:red\">(1 mark)</span>**\n",
    "\n",
    "The net magnetic field at the position of the compass is:\n",
    "\n",
    "$$ \\vec{B}_\\mathrm{net} = \\vec{B}_\\mathrm{E} + \\vec{B}_\\mathrm{S} $$\n",
    "\n",
    "<p>\n",
    "<center>\n",
    "<img src=\"https://raw.githubusercontent.com/UBC-Okanagan-Physics-Labs/PHYS-121-images/6f1d0e7429284a6d30eb0dfff436873fbe37228b/Pre-Lab-7/images/btot.svg\" style=\"width: 15%\" /><br>\n",
    "<b>Fig. 9: The net magnetic field is given by superposition of Earth's magnetic field $\\vec{B}_\\mathrm{E}$ and the solenoid's magnetic field $\\vec{B}_\\mathrm{S}$. The direction of the net field can be changed by varying the current in the solenoid. </b>\n",
    "</center>\n",
    "</p>\n",
    "\n",
    "\n",
    "The compass needle will point along the direction of $\\vec{B}_\\mathrm{net}$. Noting that $\\vec{B}_\\mathrm{E}\\perp\\vec{B}_\\mathrm{S}$, use some simple trigonometric analysis to find an expression relating the angle $\\varphi$ in **Fig. 9** above and the magnitudes of the two magnetic fields: $B_\\mathrm{E} = \\left\\vert \\vec{B}_\\mathrm{E}\\right\\vert$ and $B_\\mathrm{S} = \\left\\vert \\vec{B}_\\mathrm{S}\\right\\vert$. Solve your expression for $B_\\mathrm{E}$ and enter the result below."
   ]
  },
  {
   "cell_type": "markdown",
   "id": "7013c105",
   "metadata": {
    "deletable": false,
    "editable": false,
    "tags": []
   },
   "source": [
    "***\n",
    "**<span style=\"color:blue\">Answer 2.2:</span>**\n",
    "\n",
    "Using the cell below, type your expression for $B_\\mathrm{E}$ (denoted `Be` below) in terms of the variables `Bs`, and `phi`.\n",
    "\n",
    "To express your answer, we are using a package called ```sympy```. This allows us to symbolically represent a variable, rather than having them assigned to numerical values. We are also importing ```tan``` from this package to allow for symbolic representation of this trigonometric function. You can type ```tan(phi)```, to symbolically represent $\\tan(\\varphi)$ in the code below."
   ]
  },
  {
   "cell_type": "code",
   "execution_count": null,
   "id": "47a20d60",
   "metadata": {
    "tags": []
   },
   "outputs": [],
   "source": [
    "# Import the sympy package\n",
    "from sympy import symbols, tan\n",
    "\n",
    "# Please do not delete or modify the line directly below this comment.  \n",
    "# It is used to allow the user to enter symbol expressions into this cell.\n",
    "Be, Bs, phi = symbols('Be Bs phi')\n",
    "\n",
    "# Enter a symbolic expression for B_loc in terms of B_sol and phi.\n",
    "Be = ...\n",
    "Be"
   ]
  },
  {
   "cell_type": "code",
   "execution_count": null,
   "id": "1563083d",
   "metadata": {
    "deletable": false,
    "editable": false
   },
   "outputs": [],
   "source": [
    "grader.check(\"q2.2\")"
   ]
  },
  {
   "cell_type": "markdown",
   "id": "161dad0a",
   "metadata": {
    "deletable": false,
    "editable": false,
    "tags": []
   },
   "source": [
    "<!-- END QUESTION -->\n",
    "\n",
    "<!-- BEGIN QUESTION -->\n",
    "\n",
    "***\n",
    "**<span style=\"color:blue\">Question 2.3</span>**  **<span style=\"color:red\">(1 mark)</span>**\n",
    "\n",
    "If we're thinking like experimentalists, we should be seeking an expression of the quantity of interest (Earth's magnetic field) in terms of easily measured quantities. The angle $\\varphi$ is easy to measure, but it's not obvious how to measure $B_\\mathrm{S}$. \n",
    "\n",
    "Recall Eq. (1) for the magnetic field of solenoid:\n",
    "\n",
    "$$\n",
    "B_\\mathrm{S} = \\mu_0 n I\n",
    "$$\n",
    "\n",
    "Use this result and your expression from **Question 2.2** to find an expression for $B_\\mathrm{E}$ in terms of the solenoid current $I$.  You expression should also involve the constant $\\mu_0$ and the density of turns $n$."
   ]
  },
  {
   "cell_type": "markdown",
   "id": "e086073c",
   "metadata": {
    "deletable": false,
    "editable": false,
    "tags": []
   },
   "source": [
    "***\n",
    "**<span style=\"color:blue\">Answer 2.3:</span>**\n",
    "\n",
    "In the cell below, type a symbolic expression for `Be` in terms of `phi`, `I`, `n`, and `u0`. Remember that $\\mu_0$ just represents a constant equal to $4\\pi \\times 10^{-7}\\rm\\ N/A^2$."
   ]
  },
  {
   "cell_type": "code",
   "execution_count": null,
   "id": "bd8c765f",
   "metadata": {
    "tags": []
   },
   "outputs": [],
   "source": [
    "# Please do not delete or modify the line directly below this comment.  \n",
    "# It is used to allow the user to enter symbol expressions into this cell.\n",
    "Be, n, I, u0 = symbols('Be n I u0')\n",
    "\n",
    "# Enter a symbolic expression for Be in terms of I, n, u0, and phi.\n",
    "Be = ...\n",
    "Be"
   ]
  },
  {
   "cell_type": "code",
   "execution_count": null,
   "id": "3c77091e",
   "metadata": {
    "deletable": false,
    "editable": false
   },
   "outputs": [],
   "source": [
    "grader.check(\"q2.3\")"
   ]
  },
  {
   "cell_type": "markdown",
   "id": "777c630f",
   "metadata": {
    "deletable": false,
    "editable": false,
    "tags": []
   },
   "source": [
    "<!-- END QUESTION -->\n",
    "\n",
    "***\n",
    "**<span style=\"color:blue\">Question 2.4</span>**  **<span style=\"color:red\">(1 mark)</span>**\n",
    "\n",
    "To get a better measurement of $B_\\mathrm{e}$, we should take a set of measurements of $\\varphi$ over a range of currents $I$. The expression from **Question 2.3** allows us to express $\\tan(\\varphi)$ as a function of the solenoid current $I$:\n",
    "\n",
    "$$\n",
    "\\tan(\\varphi) = \\left(\\frac{\\mu_0 n}{B_\\mathrm{E}}\\right)I\n",
    "\\tag{2}\n",
    "$$\n",
    "\n",
    "\n",
    "Suppose you were to plot $\\tan\\varphi$ as a function of $I$ -- the result would be a linear set of data with a $y$-intercept of zero as shown in **Fig. 10**. \n",
    "\n",
    "<br>\n",
    "<p>\n",
    "<center>\n",
    "<img src=\"https://cmps-people.ok.ubc.ca/jbobowsk/PHYS_121_Lab/Lab7/images/linearPlot.png\" style=\"width: 35%\" />\n",
    "<br>\n",
    "<b>Fig. 10: An example plot of $\\tan\\varphi$ as a function of $I$ (using made up data).  The red line represents a linear fit to the data points. </b></center>\n",
    "</p>\n",
    "\n",
    "The slope $m$ of the $\\tan(\\varphi)$ versus $I$ plot is:\n",
    "\n",
    "$\\begin{align}\n",
    "\\mathrm{(a)~}  m &= \\dfrac{\\mu_0 n}{B_\\mathrm{E}}\\\\\n",
    "\\mathrm{(b)~}  m &= -\\dfrac{\\mu_0 n}{B_\\mathrm{E}}\\\\\n",
    "\\mathrm{(c)~}  m &= \\dfrac{1}{B_\\mathrm{E}}\\\\\n",
    "\\mathrm{(d)~}  m &= -\\dfrac{1}{B_\\mathrm{E}}\\\\\n",
    "\\mathrm{(e)~}  m &= \\dfrac{B_\\mathrm{E}}{\\mu_0 n}\\\\\n",
    "\\mathrm{(f)~}  m &= -\\dfrac{B_\\mathrm{E}}{\\mu_0 n}\n",
    "\\end{align}$"
   ]
  },
  {
   "cell_type": "markdown",
   "id": "47e57a34",
   "metadata": {
    "deletable": false,
    "editable": false,
    "tags": []
   },
   "source": [
    "***\n",
    "**<span style=\"color:blue\">Answer 2.4:</span>**\n",
    "\n",
    "Replace the ... in the cell below with your answer.  Your answer should be a single character (a, b, c, d, e, or f) between single or double quotes.  \n",
    "\n",
    "*** Please do not change anything to the left of the equals sign. ***"
   ]
  },
  {
   "cell_type": "code",
   "execution_count": null,
   "id": "c0ce506f",
   "metadata": {
    "tags": []
   },
   "outputs": [],
   "source": [
    "a2_4 = ..."
   ]
  },
  {
   "cell_type": "code",
   "execution_count": null,
   "id": "5d45961e",
   "metadata": {
    "deletable": false,
    "editable": false
   },
   "outputs": [],
   "source": [
    "grader.check(\"q2.4\")"
   ]
  },
  {
   "cell_type": "markdown",
   "id": "6a1387ff",
   "metadata": {
    "deletable": false,
    "editable": false,
    "tags": []
   },
   "source": [
    "# <div style=\"background-color:rgba(255, 204, 255, 0.5); text-align:center; vertical-align: middle; padding:40px 0; margin-top:30px\"><span style=\"color:rgba(102, 0, 204, 1);\">Part 3 - Feedback and Submission</span></div>"
   ]
  },
  {
   "cell_type": "markdown",
   "id": "035e5309",
   "metadata": {
    "deletable": false,
    "editable": false,
    "tags": []
   },
   "source": [
    "<!-- BEGIN QUESTION -->\n",
    "\n",
    "**<span style=\"color:blue\">Question 3.1:</span>**  \n",
    "\n",
    "We welcome your feedback on the PHYS 121 pre-labs!  Please feel free to include any comments you have about this pre-lab in the cell below.  Your comments will be taken into consideration when revising/improving the PHYS 121 labs and pre-labs.  You can suggest improvements, point out anything that was unclear, comment on the strengths and weaknesses of the pre-lab, ...\n",
    "\n",
    "This question is optional and will have no impact on your pre-lab or lab grade."
   ]
  },
  {
   "cell_type": "markdown",
   "id": "1e0ef9ed",
   "metadata": {},
   "source": [
    "***\n",
    "**<span style=\"color:blue\">Answer 3.1:</span>**\n",
    "\n",
    "[//]: # (Please do not delete this comment or anything above it.  Anything below this comment can be deleted.)  \n",
    "\n",
    "Double click this cell and enter your text here.  When done, hit 'Shift' + 'Enter' to execute the cell.  You may delete this text when entering your answer. "
   ]
  },
  {
   "cell_type": "markdown",
   "id": "d82e10cc",
   "metadata": {
    "deletable": false,
    "editable": false,
    "tags": []
   },
   "source": [
    "<!-- END QUESTION -->\n",
    "\n",
    "***\n",
    "\n",
    "## Submission\n",
    "\n",
    "Make sure you have run all cells in your notebook in order before running the cell below, so that all images/graphs appear in the output. The cell below will generate a zip file for you to submit. **Please save before exporting!**\n",
    "\n",
    "Once you've completed this notebook:\n",
    "- Save your work.\n",
    "- Run 'grader.export()' to generate a .zip file containing all of the materials that you will submit.\n",
    "- Download the generated .zip file.\n",
    "- Upload the .zip file to the PHYS 121 Lab Canvas gradebook.\n",
    "\n",
    "Here is a <a href = \"https://cmps-people.ok.ubc.ca/jbobowsk/phys231/Python/images/Submission.gif\">GIF</a> showing how these steps are completed.  Once your completed notebook has been uploaded to the Canvas gradebook, you're done!"
   ]
  },
  {
   "cell_type": "code",
   "execution_count": null,
   "id": "da530a6e",
   "metadata": {
    "deletable": false,
    "editable": false,
    "tags": []
   },
   "outputs": [],
   "source": [
    "# Save your notebook first, then run this cell (place your cursor in the cell and then hit Shift + Enter) to export \n",
    "# your submission.  Uploaded the .zip file that is generated to the gradebook of the Canvas shell for the PHYS 121 lab.\n",
    "grader.export()"
   ]
  },
  {
   "cell_type": "markdown",
   "id": "181a3cfa",
   "metadata": {
    "deletable": false,
    "editable": false,
    "tags": []
   },
   "source": [
    "# <div style=\"background-color:rgba(255, 204, 255, 0.5); text-align:center; vertical-align: middle; padding:40px 0; margin-top:30px\"><span style=\"color:rgba(102, 0, 204, 1);\">Playground (optional)</span></div>\n",
    "\n",
    "Feel free to add as many cells as you like below and use them as a playground for further independent investigations.  These cells won't be graded, so feel free to use them in any way that you like.  For example, you could compare Gaussian distributions with different standard deviations and/or means. "
   ]
  },
  {
   "cell_type": "code",
   "execution_count": null,
   "id": "b74084e7",
   "metadata": {},
   "outputs": [],
   "source": [
    "# Here's an empty code cell that you can use.\n"
   ]
  },
  {
   "cell_type": "code",
   "execution_count": null,
   "id": "76860ca0",
   "metadata": {},
   "outputs": [],
   "source": [
    "# Here's another empty code cell that you can use.\n"
   ]
  },
  {
   "cell_type": "code",
   "execution_count": null,
   "id": "845e906a",
   "metadata": {},
   "outputs": [],
   "source": [
    "# Here's yet another empty code cell that you can use.  \n",
    "# If you need more, you can add cells using the '+' icon in the menu bar at to the top of the screen.\n"
   ]
  },
  {
   "cell_type": "markdown",
   "id": "efa2274c",
   "metadata": {
    "deletable": false,
    "editable": false,
    "tags": []
   },
   "source": [
    "<img src=\"https://raw.githubusercontent.com/UBC-Okanagan-Physics-Labs/PHYS-121-images/main/general/images/ubc-logo-full.jpg\" width=\"500\"/>"
   ]
  },
  {
   "cell_type": "markdown",
   "id": "d87cffcb",
   "metadata": {},
   "source": [
    "Last update: March 13, 2023"
   ]
  }
 ],
 "metadata": {
  "kernelspec": {
   "display_name": "Python 3 (ipykernel)",
   "language": "python",
   "name": "python3"
  },
  "language_info": {
   "codemirror_mode": {
    "name": "ipython",
    "version": 3
   },
   "file_extension": ".py",
   "mimetype": "text/x-python",
   "name": "python",
   "nbconvert_exporter": "python",
   "pygments_lexer": "ipython3",
   "version": "3.10.6"
  },
  "otter": {
   "OK_FORMAT": true,
   "tests": {
    "q2.2": {
     "name": "q2.2",
     "points": null,
     "suites": [
      {
       "cases": [
        {
         "code": ">>> Be == Bs/tan(phi)\nTrue",
         "failure_message": "Note that Be and Bs form a right-angle triangle.  Be is the side adjacenet to the angle phi and Bs is opposite phi.",
         "hidden": false,
         "locked": false,
         "points": 0
        }
       ],
       "scored": true,
       "setup": "",
       "teardown": "",
       "type": "doctest"
      }
     ]
    },
    "q2.3": {
     "name": "q2.3",
     "points": null,
     "suites": [
      {
       "cases": [
        {
         "code": ">>> Be == u0*n*I/tan(phi)\nTrue",
         "failure_message": "Substitute Bs = u0*n*I into your solution to Question 2.2",
         "hidden": false,
         "locked": false,
         "points": 0
        }
       ],
       "scored": true,
       "setup": "",
       "teardown": "",
       "type": "doctest"
      }
     ]
    },
    "q2.4": {
     "name": "q2.4",
     "points": null,
     "suites": [
      {
       "cases": [
        {
         "code": ">>> a2_4.lower() in [\"a\", \"b\", \"c\", \"d\", \"e\", \"f\"]\nTrue",
         "failure_message": "Your answer must be a string of one of 'a', 'b', 'c', 'd', 'e' or 'f'.",
         "hidden": false,
         "locked": false,
         "points": 0
        },
        {
         "code": ">>> PHYS121.get_hash(a2_4.lower()) == '0cc175b9c0f1b6a831c399e269772661'\nTrue",
         "failure_message": "Equation (2) is of the form tan(phi) = m*I, where m is the slope.",
         "hidden": false,
         "locked": false,
         "points": 1
        }
       ],
       "scored": true,
       "setup": "",
       "teardown": "",
       "type": "doctest"
      }
     ]
    }
   }
  }
 },
 "nbformat": 4,
 "nbformat_minor": 5
}
